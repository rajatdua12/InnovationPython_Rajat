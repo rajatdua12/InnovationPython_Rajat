{
 "cells": [
  {
   "cell_type": "markdown",
   "metadata": {},
   "source": [
    "## Task 2"
   ]
  },
  {
   "cell_type": "markdown",
   "metadata": {},
   "source": [
    "### Q1. Write a program in Python to perform the following operation:\n",
    "###           If a number is divisible by 3 it should print “Consultadd” as a string\n",
    "###           If a number is divisible by 5 it should print “Python Training” as a string\n",
    "###           If a number is divisible by both 3 and 5 it should print “Consultadd - Python Training” as a string."
   ]
  },
  {
   "cell_type": "code",
   "execution_count": 6,
   "metadata": {},
   "outputs": [
    {
     "name": "stdout",
     "output_type": "stream",
     "text": [
      "Enter a number: 15\n",
      "Consultadd - Python Training\n"
     ]
    }
   ],
   "source": [
    "x = int(input('Enter a number: '))\n",
    "if x%3 == 0 and x%5 == 0:\n",
    "    print('Consultadd - Python Training')\n",
    "elif x%3 == 0:\n",
    "    print('Consultadd')\n",
    "elif x%5 == 0:\n",
    "    print('Python Training')\n",
    "else:\n",
    "    pass"
   ]
  },
  {
   "cell_type": "markdown",
   "metadata": {},
   "source": [
    "### Q2. Write a program in Python to perform the following operator based task:\n",
    "### Ask user to choose the following option first:\n",
    "#### If User Enter 1 - Addition\n",
    "#### If User Enter 2 - Subtraction\n",
    "#### If User Enter 3 - Division\n",
    "#### If User Enter 4 - Multiplication\n",
    "#### If User Enter 5 - Average\n",
    "#### Ask user to enter two numbers and keep those numbers in variables num1 and num2 respectively for the first 4 options mentioned above.\n",
    "#### Ask the user to enter two more numbers as first and second for calculating the average as soon as the user chooses an option 5.\n",
    "#### At the end if the answer of any operation is Negative print a statement saying “NEGATIVE”\n",
    "##### NOTE: At a time a user can only perform one action."
   ]
  },
  {
   "cell_type": "code",
   "execution_count": 11,
   "metadata": {},
   "outputs": [
    {
     "name": "stdout",
     "output_type": "stream",
     "text": [
      "Enter a number from 1 to 5: 3\n",
      "Enter 2 numbers for division operation: 10 3\n",
      "3.3333333333333335\n"
     ]
    }
   ],
   "source": [
    "x = int(input('Enter a number from 1 to 5: '))\n",
    "\n",
    "if x == 1:\n",
    "    num1, num2 = input('Enter 2 numbers for addition operation: ').split()\n",
    "    num1, num2 = int(num1), int(num2)\n",
    "    z = num1 + num2\n",
    "\n",
    "elif x ==2:\n",
    "    num1, num2 = input('Enter 2 numbers for subtraction operation: ').split()\n",
    "    num1, num2 = int(num1), int(num2)\n",
    "    z = num1 - num2\n",
    "    \n",
    "elif x==3:\n",
    "    num1, num2 = input('Enter 2 numbers for division operation: ').split()\n",
    "    num1, num2 = int(num1), int(num2)\n",
    "    z = num1/num2\n",
    "\n",
    "elif x == 4:\n",
    "    num1, num2 = input('Enter 2 numbers for multiplication operation: ').split()\n",
    "    num1, num2 = int(num1), int(num2)\n",
    "    z = num1*num2\n",
    "    \n",
    "elif x == 5:\n",
    "    a, b = input('Enter 2 numbers for average operation: ').split()\n",
    "    a, b = int(a), int(b)\n",
    "    z = (a + b)/2\n",
    "\n",
    "else:\n",
    "    pass\n",
    "\n",
    "if z < 0:\n",
    "    print(z, ' NEGATIVE')\n",
    "else:\n",
    "    print(z)"
   ]
  },
  {
   "cell_type": "markdown",
   "metadata": {},
   "source": [
    "### Q3. Write a program in Python to implement the given flowchart:"
   ]
  },
  {
   "cell_type": "code",
   "execution_count": 12,
   "metadata": {},
   "outputs": [
    {
     "name": "stdout",
     "output_type": "stream",
     "text": [
      "avg = 20.0\n",
      "avg is higher than a\n"
     ]
    }
   ],
   "source": [
    "a = 10\n",
    "b = 20\n",
    "c = 30\n",
    "\n",
    "avg = (a+b+c)/3\n",
    "print('avg = {}'.format(avg))\n",
    "\n",
    "if avg > a and avg > b and avg>c:\n",
    "    print('avg is higher than a, b, c')\n",
    "\n",
    "elif avg > a and avg > b:\n",
    "    print('avg is higher than a and b')\n",
    "\n",
    "elif avg > a and avg > c:\n",
    "    print('avg is higher than a and c')\n",
    "\n",
    "elif avg > b and avg > c:\n",
    "    print('avg is higher than b and c')\n",
    "\n",
    "elif avg > a:\n",
    "    print('avg is higher than a')\n",
    "    \n",
    "elif avg > b:\n",
    "    print('avg is higher than b')\n",
    "    \n",
    "elif avg > c:\n",
    "    print('avg is higher than c')"
   ]
  },
  {
   "cell_type": "markdown",
   "metadata": {},
   "source": [
    "### Q4. Write a program in Python to break and continue if the following cases occurs:\n",
    "#### If user enters a negative number just break the loop and print “It’s Over”\n",
    "#### If user enters a positive number just continue in the loop and print “Good Going”"
   ]
  },
  {
   "cell_type": "code",
   "execution_count": 15,
   "metadata": {},
   "outputs": [
    {
     "name": "stdout",
     "output_type": "stream",
     "text": [
      "Enter a number: 0\n",
      "Good Going\n",
      "Enter a number: 2\n",
      "Good Going\n",
      "Enter a number: 4\n",
      "Good Going\n",
      "Enter a number: -1\n",
      "It's Over\n"
     ]
    }
   ],
   "source": [
    "while True:\n",
    "    x = int(input('Enter a number: '))\n",
    "    if x < 0:\n",
    "        print(\"It's Over\")\n",
    "        break\n",
    "    print('Good Going')   "
   ]
  },
  {
   "cell_type": "markdown",
   "metadata": {},
   "source": [
    "### Q5. Write a program in Python which will find all such numbers which are divisible by 7 but are not a multiple of 5, between 2000 and 3200."
   ]
  },
  {
   "cell_type": "code",
   "execution_count": 18,
   "metadata": {},
   "outputs": [
    {
     "name": "stdout",
     "output_type": "stream",
     "text": [
      "[2002, 2009, 2016, 2023, 2037, 2044, 2051, 2058, 2072, 2079, 2086, 2093, 2107, 2114, 2121, 2128, 2142, 2149, 2156, 2163, 2177, 2184, 2191, 2198, 2212, 2219, 2226, 2233, 2247, 2254, 2261, 2268, 2282, 2289, 2296, 2303, 2317, 2324, 2331, 2338, 2352, 2359, 2366, 2373, 2387, 2394, 2401, 2408, 2422, 2429, 2436, 2443, 2457, 2464, 2471, 2478, 2492, 2499, 2506, 2513, 2527, 2534, 2541, 2548, 2562, 2569, 2576, 2583, 2597, 2604, 2611, 2618, 2632, 2639, 2646, 2653, 2667, 2674, 2681, 2688, 2702, 2709, 2716, 2723, 2737, 2744, 2751, 2758, 2772, 2779, 2786, 2793, 2807, 2814, 2821, 2828, 2842, 2849, 2856, 2863, 2877, 2884, 2891, 2898, 2912, 2919, 2926, 2933, 2947, 2954, 2961, 2968, 2982, 2989, 2996, 3003, 3017, 3024, 3031, 3038, 3052, 3059, 3066, 3073, 3087, 3094, 3101, 3108, 3122, 3129, 3136, 3143, 3157, 3164, 3171, 3178, 3192, 3199]\n"
     ]
    }
   ],
   "source": [
    "n = []\n",
    "for x in range(2000, 3200):\n",
    "    if (x%7==0) and (x%5!=0):\n",
    "        n.append(x)\n",
    "print(n)"
   ]
  },
  {
   "cell_type": "markdown",
   "metadata": {},
   "source": [
    "### Q6. What is the output of the following code examples?"
   ]
  },
  {
   "cell_type": "code",
   "execution_count": 21,
   "metadata": {},
   "outputs": [
    {
     "ename": "TypeError",
     "evalue": "'int' object is not iterable",
     "output_type": "error",
     "traceback": [
      "\u001b[0;31m---------------------------------------------------------------------------\u001b[0m",
      "\u001b[0;31mTypeError\u001b[0m                                 Traceback (most recent call last)",
      "\u001b[0;32m<ipython-input-21-b49e92dbc2b4>\u001b[0m in \u001b[0;36m<module>\u001b[0;34m\u001b[0m\n\u001b[1;32m      1\u001b[0m \u001b[0mx\u001b[0m\u001b[0;34m=\u001b[0m\u001b[0;36m123\u001b[0m\u001b[0;34m\u001b[0m\u001b[0;34m\u001b[0m\u001b[0m\n\u001b[0;32m----> 2\u001b[0;31m \u001b[0;32mfor\u001b[0m \u001b[0mi\u001b[0m \u001b[0;32min\u001b[0m \u001b[0mx\u001b[0m\u001b[0;34m:\u001b[0m\u001b[0;34m\u001b[0m\u001b[0;34m\u001b[0m\u001b[0m\n\u001b[0m\u001b[1;32m      3\u001b[0m     \u001b[0mprint\u001b[0m\u001b[0;34m(\u001b[0m\u001b[0mi\u001b[0m\u001b[0;34m)\u001b[0m\u001b[0;34m\u001b[0m\u001b[0;34m\u001b[0m\u001b[0m\n",
      "\u001b[0;31mTypeError\u001b[0m: 'int' object is not iterable"
     ]
    }
   ],
   "source": [
    "x=123\n",
    "for i in x:\n",
    "    print(i)"
   ]
  },
  {
   "cell_type": "code",
   "execution_count": 23,
   "metadata": {},
   "outputs": [
    {
     "name": "stdout",
     "output_type": "stream",
     "text": [
      "0\n",
      "error\n",
      "1\n",
      "error\n",
      "2\n"
     ]
    }
   ],
   "source": [
    "i = 0\n",
    "while i < 5:\n",
    "    print(i)\n",
    "    i += 1\n",
    "    if i == 3:\n",
    "        break\n",
    "    else:\n",
    "        print(\"error\")"
   ]
  },
  {
   "cell_type": "code",
   "execution_count": 25,
   "metadata": {},
   "outputs": [
    {
     "name": "stdout",
     "output_type": "stream",
     "text": [
      "0\n",
      "1\n",
      "2\n",
      "3\n",
      "4\n"
     ]
    }
   ],
   "source": [
    "count = 0\n",
    "while True:\n",
    "    print(count)\n",
    "    count += 1\n",
    "    if count >= 5:\n",
    "        break"
   ]
  },
  {
   "cell_type": "markdown",
   "metadata": {},
   "source": [
    "### Q7. Write a program that prints all the numbers from 0 to 6 except 3 and 6."
   ]
  },
  {
   "cell_type": "code",
   "execution_count": 29,
   "metadata": {},
   "outputs": [
    {
     "name": "stdout",
     "output_type": "stream",
     "text": [
      "0\n",
      "1\n",
      "2\n",
      "4\n",
      "5\n"
     ]
    }
   ],
   "source": [
    "for i in range(0,7):\n",
    "    if i == 3 or i == 6:\n",
    "        continue \n",
    "    print(i)"
   ]
  },
  {
   "cell_type": "markdown",
   "metadata": {},
   "source": [
    "### Q8. Write a program that accepts a string as an input from the user and calculate the number of digits and letters."
   ]
  },
  {
   "cell_type": "code",
   "execution_count": 30,
   "metadata": {},
   "outputs": [
    {
     "name": "stdout",
     "output_type": "stream",
     "text": [
      "Enter a string: consul72\n",
      "Letters  6\n",
      "Digits  2\n"
     ]
    }
   ],
   "source": [
    "x = input('Enter a string: ')\n",
    "d = l = 0\n",
    "for i in x:\n",
    "    if i.isdigit():\n",
    "        d=d+1\n",
    "    elif i.isalpha():\n",
    "        l=l+1\n",
    "    else:\n",
    "        pass\n",
    "print(\"Letters \", l)\n",
    "print(\"Digits \", d)"
   ]
  },
  {
   "cell_type": "markdown",
   "metadata": {},
   "source": [
    "### Q9. Read the two parts of the question below:\n",
    "### Write a program such that it asks users to “guess the lucky number”. If the correct number is guessed the program stops, otherwise it continues forever. \n",
    "### Modify the program so that it asks users whether they want to guess again each time. Use two variables, ‘number’ for the number and ‘answer’ for the answer to the question whether they want to continue guessing. The program stops if the user guesses the correct number or answers “no”. ( The program continues as long as a user has not answered “no” and has not guessed the correct number)"
   ]
  },
  {
   "cell_type": "code",
   "execution_count": 33,
   "metadata": {},
   "outputs": [
    {
     "name": "stdout",
     "output_type": "stream",
     "text": [
      "Guess the lucky number between 1 and 10: 6\n",
      "Wrong! you guessed too high\n",
      "Guess the lucky number between 1 and 10: 4\n",
      "Right! you guessed it\n"
     ]
    }
   ],
   "source": [
    "import random\n",
    "x = int(input('Guess the lucky number between 1 and 10: '))\n",
    "n = random.randint(1, 10)\n",
    "while x!=n:\n",
    "    if x>n:\n",
    "        print('Wrong! you guessed too high')\n",
    "        x = int(input('Guess the lucky number between 1 and 10: '))\n",
    "    elif x<n:\n",
    "        print('Wrong! you guessed too low')\n",
    "        x = int(input('Guess the lucky number between 1 and 10: '))\n",
    "print('Right! you guessed it')"
   ]
  },
  {
   "cell_type": "code",
   "execution_count": 40,
   "metadata": {},
   "outputs": [],
   "source": [
    "import random\n",
    "def guessing_game():\n",
    "    x = int(input('Guess the lucky number between 1 and 10: '))\n",
    "    n = random.randint(1, 10)\n",
    "    while x!=n:\n",
    "        if x>n:\n",
    "            print('Wrong! you guessed too high')\n",
    "            a = input('Continue guessing? (yes/no): ')\n",
    "            if a == 'no':\n",
    "                print('The correct number is: ', n)\n",
    "                break\n",
    "            else:\n",
    "                x = int(input('Guess the lucky number between 1 and 10: '))\n",
    "        elif x<n:\n",
    "            print('Wrong! you guessed too low')\n",
    "            a = input('Continue guessing? (yes/no): ')\n",
    "            if a == 'no':\n",
    "                print('The correct number is: ', n)\n",
    "                break\n",
    "            else:\n",
    "                x = int(input('Guess the lucky number between 1 and 10: '))\n",
    "    if x == n:\n",
    "        print('Right! you guessed it')\n",
    "    else:\n",
    "        pass"
   ]
  },
  {
   "cell_type": "code",
   "execution_count": 41,
   "metadata": {},
   "outputs": [
    {
     "name": "stdout",
     "output_type": "stream",
     "text": [
      "Guess the lucky number between 1 and 10: 5\n",
      "Wrong! you guessed too high\n",
      "Continue guessing? (yes/no): yes\n",
      "Guess the lucky number between 1 and 10: 3\n",
      "Wrong! you guessed too low\n",
      "Continue guessing? (yes/no): yes\n",
      "Guess the lucky number between 1 and 10: 4\n",
      "Right! you guessed it\n"
     ]
    }
   ],
   "source": [
    "guessing_game()"
   ]
  },
  {
   "cell_type": "code",
   "execution_count": 42,
   "metadata": {},
   "outputs": [
    {
     "name": "stdout",
     "output_type": "stream",
     "text": [
      "Guess the lucky number between 1 and 10: 8\n",
      "Wrong! you guessed too low\n",
      "Continue guessing? (yes/no): yes\n",
      "Guess the lucky number between 1 and 10: 10\n",
      "Wrong! you guessed too high\n",
      "Continue guessing? (yes/no): no\n",
      "The correct number is:  9\n"
     ]
    }
   ],
   "source": [
    "guessing_game()"
   ]
  },
  {
   "cell_type": "markdown",
   "metadata": {},
   "source": [
    "### Q10. Write a program that asks five times to guess the lucky number. Use a while loop and a counter, such as:\n",
    "#### counter = 1\n",
    "#### While counter <= 5:\n",
    "#### \\t     print(“Type in the”, counter, “number”\n",
    "#### \\t     counter=counter+1\n",
    "### The program asks for five guesses (no matter whether the correct number was guessed or not). If the correct number is guessed, the program outputs “Good guess!”, otherwise it outputs “Try again!”. After the fifth guess it stops and prints “Game over!”."
   ]
  },
  {
   "cell_type": "code",
   "execution_count": 52,
   "metadata": {},
   "outputs": [],
   "source": [
    "import random\n",
    "def guessing_g2():\n",
    "    print('You will get maximum 5 number of trials')\n",
    "    y = input('Continue? (yes/no): ')\n",
    "    if y == 'yes':\n",
    "        counter = 1\n",
    "        x = int(input('Guess the lucky number between 1 and 10: '))\n",
    "        n = random.randint(1, 10)\n",
    "        while x!=n and counter <=5:\n",
    "            if x>n:\n",
    "                print('Wrong! you guessed too high')\n",
    "                x = int(input('Guess the lucky number between 1 and 10: '))\n",
    "            elif x<n:\n",
    "                print('Wrong! you guessed too low')\n",
    "                x = int(input('Guess the lucky number between 1 and 10: '))\n",
    "            counter = counter+1\n",
    "        if counter > 5:\n",
    "            print('Game Over! You exceeded max num of trials')\n",
    "            print('The correct number is: ', n)\n",
    "        else:\n",
    "            print('Right! you guessed it')\n",
    "            print('Total number of trials: ', counter)\n",
    "    else:\n",
    "        pass"
   ]
  },
  {
   "cell_type": "code",
   "execution_count": 49,
   "metadata": {},
   "outputs": [
    {
     "name": "stdout",
     "output_type": "stream",
     "text": [
      "You will get maximum 5 number of trials\n",
      "Continue? (yes/no): yes\n",
      "Guess the lucky number between 1 and 10: 6\n",
      "Right! you guessed it\n",
      "Total number of trials:  1\n"
     ]
    }
   ],
   "source": [
    "guessing_g2()"
   ]
  },
  {
   "cell_type": "code",
   "execution_count": 50,
   "metadata": {},
   "outputs": [
    {
     "name": "stdout",
     "output_type": "stream",
     "text": [
      "You will get maximum 5 number of trials\n",
      "Continue? (yes/no): yes\n",
      "Guess the lucky number between 1 and 10: 7\n",
      "Wrong! you guessed too high\n",
      "Guess the lucky number between 1 and 10: 2\n",
      "Right! you guessed it\n",
      "Total number of trials:  2\n"
     ]
    }
   ],
   "source": [
    "guessing_g2()"
   ]
  },
  {
   "cell_type": "code",
   "execution_count": 53,
   "metadata": {},
   "outputs": [
    {
     "name": "stdout",
     "output_type": "stream",
     "text": [
      "You will get maximum 5 number of trials\n",
      "Continue? (yes/no): yes\n",
      "Guess the lucky number between 1 and 10: 5\n",
      "Wrong! you guessed too low\n",
      "Guess the lucky number between 1 and 10: 5\n",
      "Wrong! you guessed too low\n",
      "Guess the lucky number between 1 and 10: 5\n",
      "Wrong! you guessed too low\n",
      "Guess the lucky number between 1 and 10: 5\n",
      "Wrong! you guessed too low\n",
      "Guess the lucky number between 1 and 10: 5\n",
      "Wrong! you guessed too low\n",
      "Guess the lucky number between 1 and 10: 5\n",
      "Game Over! You exceeded max num of trials\n",
      "The correct number is:  6\n"
     ]
    }
   ],
   "source": [
    "guessing_g2()"
   ]
  },
  {
   "cell_type": "markdown",
   "metadata": {},
   "source": [
    "### Q11. In the previous question, insert break after the “Good guess!” print statement. break will terminate the while loop so that users do not have to continue guessing after they found the number. If the user does not guess the number at all, print “Sorry but that was not very successful”."
   ]
  },
  {
   "cell_type": "code",
   "execution_count": 54,
   "metadata": {},
   "outputs": [],
   "source": [
    "import random\n",
    "def guessing_g3():\n",
    "    print('You will get maximum 5 number of trials')\n",
    "    y = input('Continue? (yes/no): ')\n",
    "    if y == 'yes':\n",
    "        counter = 1\n",
    "        x = int(input('Guess the lucky number between 1 and 10: '))\n",
    "        n = random.randint(1, 10)\n",
    "        while x!=n and counter <=5:\n",
    "            if x>n:\n",
    "                print('Wrong! you guessed too high')\n",
    "                x = int(input('Guess the lucky number between 1 and 10: '))\n",
    "            elif x<n:\n",
    "                print('Wrong! you guessed too low')\n",
    "                x = int(input('Guess the lucky number between 1 and 10: '))\n",
    "            else:\n",
    "                break\n",
    "            counter = counter+1\n",
    "        if counter > 5:\n",
    "            print('Game Over! You exceeded max num of trials')\n",
    "            print('The correct number is: ', n)\n",
    "        else:\n",
    "            print('Right! you guessed it')\n",
    "            print('Total number of trials: ', counter)\n",
    "    else:\n",
    "        pass"
   ]
  },
  {
   "cell_type": "code",
   "execution_count": 55,
   "metadata": {},
   "outputs": [
    {
     "name": "stdout",
     "output_type": "stream",
     "text": [
      "You will get maximum 5 number of trials\n",
      "Continue? (yes/no): yes\n",
      "Guess the lucky number between 1 and 10: 5\n",
      "Wrong! you guessed too low\n",
      "Guess the lucky number between 1 and 10: 7\n",
      "Right! you guessed it\n",
      "Total number of trials:  2\n"
     ]
    }
   ],
   "source": [
    "guessing_g3()"
   ]
  },
  {
   "cell_type": "code",
   "execution_count": 56,
   "metadata": {},
   "outputs": [
    {
     "name": "stdout",
     "output_type": "stream",
     "text": [
      "You will get maximum 5 number of trials\n",
      "Continue? (yes/no): yes\n",
      "Guess the lucky number between 1 and 10: 5\n",
      "Wrong! you guessed too high\n",
      "Guess the lucky number between 1 and 10: 5\n",
      "Wrong! you guessed too high\n",
      "Guess the lucky number between 1 and 10: 5\n",
      "Wrong! you guessed too high\n",
      "Guess the lucky number between 1 and 10: 5\n",
      "Wrong! you guessed too high\n",
      "Guess the lucky number between 1 and 10: 5\n",
      "Wrong! you guessed too high\n",
      "Guess the lucky number between 1 and 10: 5\n",
      "Game Over! You exceeded max num of trials\n",
      "The correct number is:  4\n"
     ]
    }
   ],
   "source": [
    "guessing_g3()"
   ]
  },
  {
   "cell_type": "code",
   "execution_count": 57,
   "metadata": {},
   "outputs": [
    {
     "name": "stdout",
     "output_type": "stream",
     "text": [
      "You will get maximum 5 number of trials\n",
      "Continue? (yes/no): no\n"
     ]
    }
   ],
   "source": [
    "guessing_g3()"
   ]
  },
  {
   "cell_type": "code",
   "execution_count": null,
   "metadata": {},
   "outputs": [],
   "source": []
  }
 ],
 "metadata": {
  "kernelspec": {
   "display_name": "Python 3",
   "language": "python",
   "name": "python3"
  },
  "language_info": {
   "codemirror_mode": {
    "name": "ipython",
    "version": 3
   },
   "file_extension": ".py",
   "mimetype": "text/x-python",
   "name": "python",
   "nbconvert_exporter": "python",
   "pygments_lexer": "ipython3",
   "version": "3.7.3"
  }
 },
 "nbformat": 4,
 "nbformat_minor": 2
}
