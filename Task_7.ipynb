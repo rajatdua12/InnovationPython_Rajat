{
 "cells": [
  {
   "cell_type": "markdown",
   "metadata": {},
   "source": [
    "## Task 7"
   ]
  },
  {
   "cell_type": "markdown",
   "metadata": {},
   "source": [
    "### Q1. Write a program that calculates and prints the value according to the given formula:\n",
    "### Q= Square root of [(2*C*D)/H]\n",
    "#### Following are the fixed values of C and H:\n",
    "#### C is 50.\n",
    "#### H is 30.\n",
    "#### D is a variable whose values should be input to your program in a comma-separated sequence."
   ]
  },
  {
   "cell_type": "code",
   "execution_count": 1,
   "metadata": {},
   "outputs": [],
   "source": [
    "import math\n",
    "def formula(D, C = 50, H = 30):\n",
    "    Q = []\n",
    "    for i in D:\n",
    "        Q_i = math.sqrt((2*C*i)/H)\n",
    "        Q.append(Q_i)\n",
    "    return Q"
   ]
  },
  {
   "cell_type": "code",
   "execution_count": 2,
   "metadata": {},
   "outputs": [],
   "source": [
    "print(formula([1,2,3,4,5]))"
   ]
  },
  {
   "cell_type": "markdown",
   "metadata": {},
   "source": [
    "### Q2. Define a class named Shape and its subclass Square. The Square class has an init function which takes length as argument. Both classes have an area function which can print the area of the shape where Shape’s area is 0 by default."
   ]
  },
  {
   "cell_type": "code",
   "execution_count": 3,
   "metadata": {},
   "outputs": [],
   "source": [
    "class Shape():\n",
    "    def __init__(self, Length):\n",
    "        self.Length = Length\n",
    "        \n",
    "    def area(self):\n",
    "        return 0\n",
    "    \n",
    "class Square(Shape):\n",
    "    def __init__(self, Length):\n",
    "        Shape.__init__(self, Length)\n",
    "    \n",
    "    def area(self):\n",
    "        return self.Length**2"
   ]
  },
  {
   "cell_type": "code",
   "execution_count": 4,
   "metadata": {},
   "outputs": [],
   "source": [
    "s = Square(12)"
   ]
  },
  {
   "cell_type": "code",
   "execution_count": 5,
   "metadata": {},
   "outputs": [],
   "source": [
    "print(s.area())"
   ]
  },
  {
   "cell_type": "code",
   "execution_count": 6,
   "metadata": {},
   "outputs": [],
   "source": [
    "sh = Shape(12)\n",
    "print(sh.area())"
   ]
  },
  {
   "cell_type": "markdown",
   "metadata": {},
   "source": [
    "### Q3. Create a class to find three elements that sum to zero from a set of n real numbers"
   ]
  },
  {
   "cell_type": "code",
   "execution_count": 7,
   "metadata": {},
   "outputs": [],
   "source": [
    "from itertools import combinations\n",
    "\n",
    "class triplets():\n",
    "    def __init__(self, lst):\n",
    "        self.lst = lst\n",
    "    \n",
    "    def find_triplets(self, lst):\n",
    "        \n",
    "        def valid(val):\n",
    "            return sum(val) == 0\n",
    "    \n",
    "        return list(filter(valid, list(combinations(self.lst, 3))))"
   ]
  },
  {
   "cell_type": "code",
   "execution_count": 8,
   "metadata": {},
   "outputs": [],
   "source": [
    "lt = [-25,-10,-7,-3,2,4,8,10]\n",
    "t = triplets(lt)"
   ]
  },
  {
   "cell_type": "code",
   "execution_count": 9,
   "metadata": {},
   "outputs": [
    {
     "data": {
      "text/plain": [
       "[(-10, 2, 8), (-7, -3, 10)]"
      ]
     },
     "execution_count": 9,
     "metadata": {},
     "output_type": "execute_result"
    }
   ],
   "source": [
    "t.find_triplets(lt)"
   ]
  },
  {
   "cell_type": "markdown",
   "metadata": {},
   "source": [
    "### Q4. Create a Time class and initialize it with hours and minutes. Create a method addTime which should take two Time objects and add them.\n",
    "#### E.g.- (2 hour and 50 min)+(1 hr and 20 min) is (4 hr and 10 min)\n",
    "### Create another method displayTime which should print the time. Also create a method displayMinute which should display the total minutes in the Time.\n",
    "#### E.g.- (1 hr 2 min) should display 62 minute."
   ]
  },
  {
   "cell_type": "code",
   "execution_count": 10,
   "metadata": {},
   "outputs": [],
   "source": [
    "class Time():\n",
    "    def __init__(self, hours, mins):\n",
    "        self.hours = hours\n",
    "        self.mins = mins\n",
    "        \n",
    "    def addTime(t1, t2):\n",
    "        t3 = Time(0, 0)\n",
    "        t3.hours = t1.hours + t2.hours\n",
    "        t3.mins = t1.mins + t2.mins\n",
    "        while t3.mins >= 60:\n",
    "            t3.hours += 1\n",
    "            t3.mins -= 60\n",
    "        return t3\n",
    "    \n",
    "    def displayTime(self):\n",
    "        print(\"Time is %d hours and %d minutes\" %(self.hours, self.mins))\n",
    "        \n",
    "    def displayMinute(self):\n",
    "        print((self.hours * 60) + self.mins, \"minutes\")"
   ]
  },
  {
   "cell_type": "code",
   "execution_count": 11,
   "metadata": {},
   "outputs": [],
   "source": [
    "a = Time(2, 50)\n",
    "b = Time(1, 20)\n",
    "c = Time.addTime(a, b)"
   ]
  },
  {
   "cell_type": "code",
   "execution_count": 12,
   "metadata": {},
   "outputs": [
    {
     "name": "stdout",
     "output_type": "stream",
     "text": [
      "Time is 4 hours and 10 minutes\n",
      "250 minutes\n"
     ]
    }
   ],
   "source": [
    "c.displayTime()\n",
    "c.displayMinute()"
   ]
  },
  {
   "cell_type": "code",
   "execution_count": 13,
   "metadata": {},
   "outputs": [
    {
     "name": "stdout",
     "output_type": "stream",
     "text": [
      "62 minutes\n"
     ]
    }
   ],
   "source": [
    "d = Time(1, 2)\n",
    "d.displayMinute()"
   ]
  },
  {
   "cell_type": "markdown",
   "metadata": {},
   "source": [
    "### Q5. Write a Person class with an instance variable “age” and a constructor that takes an integer as a parameter. The constructor must assign the integer value to the age variable after confirming the argument passed is not negative; if a negative argument is passed then the constructor should set age to 0 and print “Age is not valid, setting age to 0”. In addition, you must write the following instance methods:\n",
    "\n",
    "#### yearPasses() should increase age by the integer value that you are passing inside the function.\n",
    "#### amIOld() should perform the following conditional actions:\n",
    "##### If age is between 0 and <13, print “You are young”.\n",
    "##### If age is >=13 and <=19 , print “You are a teenager”.\n",
    "##### Otherwise, print “You are old”."
   ]
  },
  {
   "cell_type": "code",
   "execution_count": 14,
   "metadata": {},
   "outputs": [],
   "source": [
    "class Person:\n",
    "    age = 0\n",
    "    \n",
    "    def __init__(self, initialAge):\n",
    "        if initialAge < 0:\n",
    "            self.age= 0\n",
    "            print('Age is not valid, setting age to 0.')\n",
    "        else:\n",
    "            self.age=initialAge\n",
    "    \n",
    "    def amIold(self):\n",
    "        if self.age < 13:\n",
    "            print('You are young.')\n",
    "        elif self.age>=13 and self.age<=19:\n",
    "            print('You are a teenager.')\n",
    "        else:\n",
    "            print('You are old.')\n",
    "            \n",
    "    def yearPasses(self):\n",
    "        self.age+=1\n",
    "        return self.age"
   ]
  },
  {
   "cell_type": "code",
   "execution_count": 15,
   "metadata": {},
   "outputs": [
    {
     "name": "stdout",
     "output_type": "stream",
     "text": [
      "Enter the number of iterations: 7\n",
      "Enter the initial age of the person: -1\n",
      "Age is not valid, setting age to 0.\n",
      "You are young.\n",
      "Enter the initial age of the person: 4\n",
      "You are young.\n",
      "Enter the initial age of the person: 10\n",
      "You are young.\n",
      "Enter the initial age of the person: 16\n",
      "You are a teenager.\n",
      "Enter the initial age of the person: 18\n",
      "You are a teenager.\n",
      "Enter the initial age of the person: 64\n",
      "You are old.\n",
      "Enter the initial age of the person: 38\n",
      "You are old.\n"
     ]
    }
   ],
   "source": [
    "t = int(input('Enter the number of iterations: '))\n",
    "for i in range(0, t):\n",
    "    age = int(input('Enter the initial age of the person: '))         \n",
    "    p = Person(age)  \n",
    "    p.amIold()"
   ]
  },
  {
   "cell_type": "code",
   "execution_count": 16,
   "metadata": {},
   "outputs": [
    {
     "name": "stdout",
     "output_type": "stream",
     "text": [
      "Enter the initial age of the person: 38\n",
      "Enter number of year passes: 4\n",
      "The age of the person after 4 years will be 42 years\n"
     ]
    }
   ],
   "source": [
    "age1 = int(input('Enter the initial age of the person: '))\n",
    "t1 = int(input('Enter number of year passes: '))\n",
    "p1 = Person(age1)\n",
    "for j in range(0, t1):\n",
    "    y = p1.yearPasses()\n",
    "print('The age of the person after {} years will be {} years'.format(t1, y))"
   ]
  },
  {
   "cell_type": "code",
   "execution_count": null,
   "metadata": {},
   "outputs": [],
   "source": []
  }
 ],
 "metadata": {
  "kernelspec": {
   "display_name": "Python 3",
   "language": "python",
   "name": "python3"
  },
  "language_info": {
   "codemirror_mode": {
    "name": "ipython",
    "version": 3
   },
   "file_extension": ".py",
   "mimetype": "text/x-python",
   "name": "python",
   "nbconvert_exporter": "python",
   "pygments_lexer": "ipython3",
   "version": "3.8.5"
  }
 },
 "nbformat": 4,
 "nbformat_minor": 4
}
