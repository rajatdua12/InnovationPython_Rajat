{
 "cells": [
  {
   "cell_type": "markdown",
   "metadata": {},
   "source": [
    "## Task 5"
   ]
  },
  {
   "cell_type": "markdown",
   "metadata": {},
   "source": [
    "### Q1. Write a program in Python to allow the error of syntax to be handled using exception handling."
   ]
  },
  {
   "cell_type": "code",
   "execution_count": 1,
   "metadata": {},
   "outputs": [
    {
     "name": "stdout",
     "output_type": "stream",
     "text": [
      "There is Syntax Error in your code\n"
     ]
    }
   ],
   "source": [
    "try:\n",
    "    eval('x===x')\n",
    "except SyntaxError:\n",
    "    print('There is Syntax Error in your code')"
   ]
  },
  {
   "cell_type": "markdown",
   "metadata": {},
   "source": [
    "### Q2. Write a program in Python to allow the user to open a file by using the argv module. If the entered name is incorrect throw an exception and ask them to enter the name again. Make sure to use read only mode."
   ]
  },
  {
   "cell_type": "code",
   "execution_count": 2,
   "metadata": {},
   "outputs": [
    {
     "name": "stdout",
     "output_type": "stream",
     "text": [
      "Number of arguments: 3 arguments\n",
      "Argument List: ['C:\\\\Users\\\\Rajat.Dua\\\\Anaconda3\\\\lib\\\\site-packages\\\\ipykernel_launcher.py', '-f', 'C:\\\\Users\\\\Rajat.Dua\\\\AppData\\\\Roaming\\\\jupyter\\\\runtime\\\\kernel-e7fafce3-b6a5-40c4-b35c-742c03db529b.json']\n"
     ]
    }
   ],
   "source": [
    "import sys\n",
    "print (\"Number of arguments:\", len(sys.argv), \"arguments\")\n",
    "print (\"Argument List:\", str(sys.argv))"
   ]
  },
  {
   "cell_type": "code",
   "execution_count": 3,
   "metadata": {},
   "outputs": [
    {
     "name": "stdout",
     "output_type": "stream",
     "text": [
      "This is the name of the script:  C:\\Users\\Rajat.Dua\\Anaconda3\\lib\\site-packages\\ipykernel_launcher.py\n",
      "Number of arguments:  3\n",
      "The arguments are:  ['C:\\\\Users\\\\Rajat.Dua\\\\Anaconda3\\\\lib\\\\site-packages\\\\ipykernel_launcher.py', '-f', 'C:\\\\Users\\\\Rajat.Dua\\\\AppData\\\\Roaming\\\\jupyter\\\\runtime\\\\kernel-e7fafce3-b6a5-40c4-b35c-742c03db529b.json']\n"
     ]
    }
   ],
   "source": [
    "import sys\n",
    "print (\"This is the name of the script: \", sys.argv[0])\n",
    "print (\"Number of arguments: \", len(sys.argv))\n",
    "print (\"The arguments are: \" , str(sys.argv))"
   ]
  },
  {
   "cell_type": "code",
   "execution_count": 4,
   "metadata": {},
   "outputs": [
    {
     "name": "stdout",
     "output_type": "stream",
     "text": [
      "\"\"\"Entry point for launching an IPython kernel.\n",
      "\n",
      "This is separate from the ipykernel package so we can avoid doing imports until\n",
      "after removing the cwd from sys.path.\n",
      "\"\"\"\n",
      "\n",
      "import sys\n",
      "\n",
      "if __name__ == '__main__':\n",
      "    # Remove the CWD from sys.path while we load stuff.\n",
      "    # This is added back by InteractiveShellApp.init_path()\n",
      "    if sys.path[0] == '':\n",
      "        del sys.path[0]\n",
      "\n",
      "    from ipykernel import kernelapp as app\n",
      "    app.launch_new_instance()\n",
      "\n"
     ]
    }
   ],
   "source": [
    "import sys\n",
    "\n",
    "with open(sys.argv[0], 'r') as my_file:\n",
    "    print(my_file.read())"
   ]
  },
  {
   "cell_type": "code",
   "execution_count": 5,
   "metadata": {},
   "outputs": [
    {
     "data": {
      "text/plain": [
       "['C:\\\\Users\\\\Rajat.Dua\\\\Anaconda3\\\\lib\\\\site-packages\\\\ipykernel_launcher.py',\n",
       " '-f',\n",
       " 'C:\\\\Users\\\\Rajat.Dua\\\\AppData\\\\Roaming\\\\jupyter\\\\runtime\\\\kernel-e7fafce3-b6a5-40c4-b35c-742c03db529b.json']"
      ]
     },
     "execution_count": 5,
     "metadata": {},
     "output_type": "execute_result"
    }
   ],
   "source": [
    "sys.argv"
   ]
  },
  {
   "cell_type": "code",
   "execution_count": 6,
   "metadata": {},
   "outputs": [
    {
     "name": "stdout",
     "output_type": "stream",
     "text": [
      "Something wrong with specified directory. Exception-  (<class 'FileNotFoundError'>, FileNotFoundError(2, 'The system cannot find the path specified'), <traceback object at 0x000002600FF0CF80>)\n",
      "Restoring the path\n",
      "Current directory is- C:\\Users\\Rajat.Dua\\OneDrive - State of Wisconsin Investment Board\\Documents\\Personal\\Consultadd\n"
     ]
    }
   ],
   "source": [
    "import sys, os\n",
    "cwd = os.getcwd()\n",
    "fd = 'false_dir / temp'\n",
    "  \n",
    "# trying to insert to flase directory\n",
    "try:\n",
    "    os.chdir(fd)\n",
    "    print(\"Inserting inside-\", os.getcwd())\n",
    "      \n",
    "# Caching the exception    \n",
    "except:\n",
    "    print(\"Something wrong with specified directory. Exception- \", sys.exc_info())\n",
    "            \n",
    "# handling with finally          \n",
    "finally:\n",
    "    print(\"Restoring the path\")\n",
    "    os.chdir(cwd)\n",
    "    print(\"Current directory is-\", os.getcwd())"
   ]
  },
  {
   "cell_type": "markdown",
   "metadata": {},
   "source": [
    "### Q3. Write a program to handle an error if the user entered a number more than four digits it should return “The length is too short/long !!! Please provide only four digits”"
   ]
  },
  {
   "cell_type": "code",
   "execution_count": 7,
   "metadata": {},
   "outputs": [],
   "source": [
    "def handle(): \n",
    "    try:\n",
    "        x = input('Please provide 4 digits: ')\n",
    "        len_x = len(str(x))\n",
    "\n",
    "        if len_x!= 4:\n",
    "            raise Exception\n",
    "\n",
    "    except Exception:\n",
    "        print('The length is too short/long !!! Please provide only four digits')\n",
    "\n",
    "    else:\n",
    "        print('You have entered the right number of digits')"
   ]
  },
  {
   "cell_type": "code",
   "execution_count": 8,
   "metadata": {},
   "outputs": [
    {
     "name": "stdout",
     "output_type": "stream",
     "text": [
      "Please provide 4 digits: 12345\n",
      "The length is too short/long !!! Please provide only four digits\n"
     ]
    }
   ],
   "source": [
    "handle()"
   ]
  },
  {
   "cell_type": "code",
   "execution_count": 9,
   "metadata": {},
   "outputs": [
    {
     "name": "stdout",
     "output_type": "stream",
     "text": [
      "Please provide 4 digits: 1234\n",
      "You have entered the right number of digits\n"
     ]
    }
   ],
   "source": [
    "handle()"
   ]
  },
  {
   "cell_type": "markdown",
   "metadata": {},
   "source": [
    "### Q4. Create a login page backend to ask users to enter the username and password. Make sure to ask for a Re-Type Password and if the password is incorrect give chance to enter it again but it should not be more than 3 times."
   ]
  },
  {
   "cell_type": "code",
   "execution_count": 10,
   "metadata": {},
   "outputs": [],
   "source": [
    " def login():\n",
    "    print('Enter correct username and password combo to continue')\n",
    "    count=0\n",
    "    while count < 3:\n",
    "        username = input('Enter username: ')\n",
    "        password = input('Enter password: ')\n",
    "        if password=='Tomato_12' and username=='bank_admin':\n",
    "            print('Access granted')\n",
    "            break\n",
    "        else:\n",
    "            print('Access denied. Try again.')\n",
    "            count += 1"
   ]
  },
  {
   "cell_type": "code",
   "execution_count": 11,
   "metadata": {},
   "outputs": [
    {
     "name": "stdout",
     "output_type": "stream",
     "text": [
      "Enter correct username and password combo to continue\n",
      "Enter username: bank123\n",
      "Enter password: pass@123\n",
      "Access denied. Try again.\n",
      "Enter username: bank@123\n",
      "Enter password: tomsto_12\n",
      "Access denied. Try again.\n",
      "Enter username: bank_admin\n",
      "Enter password: potato_12\n",
      "Access denied. Try again.\n"
     ]
    }
   ],
   "source": [
    "login()"
   ]
  },
  {
   "cell_type": "code",
   "execution_count": 12,
   "metadata": {},
   "outputs": [
    {
     "name": "stdout",
     "output_type": "stream",
     "text": [
      "Enter correct username and password combo to continue\n",
      "Enter username: bank_admin\n",
      "Enter password: Tomato_12\n",
      "Access granted\n"
     ]
    }
   ],
   "source": [
    "login()"
   ]
  },
  {
   "cell_type": "markdown",
   "metadata": {},
   "source": [
    "### Q5. Go through the link provided below to understand finally and raise concept:\n",
    "#### https://www.programiz.com/python-programming/exception-handling"
   ]
  },
  {
   "cell_type": "markdown",
   "metadata": {},
   "source": [
    "### Done"
   ]
  },
  {
   "cell_type": "markdown",
   "metadata": {},
   "source": [
    "### Q6. Read doc.txt file using Python File handling concept and return only the even length string from the file. Consider the content of doc.txt as given below:"
   ]
  },
  {
   "cell_type": "markdown",
   "metadata": {},
   "source": [
    "#### Hello I am a file\n",
    "#### Where you need to return the data string\n",
    "#### Which is of even length\n",
    "#### Make sure you return the content in The same link as it is present."
   ]
  },
  {
   "cell_type": "code",
   "execution_count": 13,
   "metadata": {},
   "outputs": [],
   "source": [
    "l1 = 'Hello I am a file'\n",
    "l2 = 'Where you need to return the data string'\n",
    "l3 = 'Which is of even length'\n",
    "l4 = 'Make sure you return the content in The same link as it is present.'\n",
    "\n",
    "with open('doc.txt', 'w') as f:\n",
    "    f.write('{}\\n{}\\n{}\\n{}'.format(l1,l2,l3,l4))"
   ]
  },
  {
   "cell_type": "code",
   "execution_count": 14,
   "metadata": {},
   "outputs": [
    {
     "name": "stdout",
     "output_type": "stream",
     "text": [
      "Hello I am a file\n",
      "Where you need to return the data string\n",
      "Which is of even length\n",
      "Make sure you return the content in The same link as it is present.\n"
     ]
    }
   ],
   "source": [
    "with open('doc.txt') as f:\n",
    "    print(f.read())"
   ]
  },
  {
   "cell_type": "code",
   "execution_count": null,
   "metadata": {},
   "outputs": [],
   "source": []
  }
 ],
 "metadata": {
  "kernelspec": {
   "display_name": "Python 3",
   "language": "python",
   "name": "python3"
  },
  "language_info": {
   "codemirror_mode": {
    "name": "ipython",
    "version": 3
   },
   "file_extension": ".py",
   "mimetype": "text/x-python",
   "name": "python",
   "nbconvert_exporter": "python",
   "pygments_lexer": "ipython3",
   "version": "3.8.5"
  }
 },
 "nbformat": 4,
 "nbformat_minor": 4
}
